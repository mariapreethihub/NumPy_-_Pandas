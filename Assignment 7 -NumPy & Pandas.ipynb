{
 "cells": [
  {
   "cell_type": "markdown",
   "id": "42c03e4d-e164-4425-b5a4-34bb138bdf29",
   "metadata": {},
   "source": [
    "\n",
    "# Assignment 7-NumPy & Pandas"
   ]
  },
  {
   "cell_type": "markdown",
   "id": "39cc50d6-806b-402e-8a68-d505a3016da6",
   "metadata": {},
   "source": [
    "## 1.Create a numpy array containing the numbers from 1 to 10, and then reshape it to a 2x5 matrix."
   ]
  },
  {
   "cell_type": "code",
   "execution_count": 10,
   "id": "aecd0f1c-a7a3-4772-b58c-cc204d597559",
   "metadata": {},
   "outputs": [
    {
     "name": "stdout",
     "output_type": "stream",
     "text": [
      "Numpy array with numbers from 1 to 10 [ 1  2  3  4  5  6  7  8  9 10]\n"
     ]
    }
   ],
   "source": [
    "import numpy as np\n",
    "num_array=np.arange(1,11)\n",
    "print(\"Numpy array with numbers from 1 to 10\",num_array)"
   ]
  },
  {
   "cell_type": "code",
   "execution_count": 9,
   "id": "ebf5b8ec-fb03-4a27-873b-e9fb52376927",
   "metadata": {},
   "outputs": [
    {
     "name": "stdout",
     "output_type": "stream",
     "text": [
      "Array after reshaping [[ 1  2  3  4  5]\n",
      " [ 6  7  8  9 10]]\n"
     ]
    }
   ],
   "source": [
    "# Array after reshaping\n",
    "num_array=num_array.reshape(2,5)\n",
    "print(\"Array after reshaping\",num_array)"
   ]
  },
  {
   "cell_type": "markdown",
   "id": "a2242491-e286-498f-a9d2-f00345fb8ef2",
   "metadata": {},
   "source": [
    "## 2.Create a numpy array containing the numbers from 1 to 20, and then extract the elements between the 5th and 15th index."
   ]
  },
  {
   "cell_type": "code",
   "execution_count": 14,
   "id": "3da31030-d83b-456c-88ac-a382b5c1393b",
   "metadata": {},
   "outputs": [
    {
     "data": {
      "text/plain": [
       "array([ 1,  2,  3,  4,  5,  6,  7,  8,  9, 10, 11, 12, 13, 14, 15, 16, 17,\n",
       "       18, 19, 20])"
      ]
     },
     "execution_count": 14,
     "metadata": {},
     "output_type": "execute_result"
    }
   ],
   "source": [
    "# creating array containing numbers from 1 to 20\n",
    "no_array=np.array(range(1,21))\n",
    "no_array"
   ]
  },
  {
   "cell_type": "code",
   "execution_count": 18,
   "id": "2dcff753-3f51-431c-b129-d29c20bb5114",
   "metadata": {},
   "outputs": [
    {
     "data": {
      "text/plain": [
       "array([ 7,  8,  9, 10, 11, 12, 13, 14, 15])"
      ]
     },
     "execution_count": 18,
     "metadata": {},
     "output_type": "execute_result"
    }
   ],
   "source": [
    "# Extracting elements between index 5th and 15th \n",
    "no_array[6:15]"
   ]
  },
  {
   "cell_type": "markdown",
   "id": "45c501c8-5363-4fbe-9fc2-a01c28a751c7",
   "metadata": {},
   "source": [
    "# 3.Create a Pandas series with the following data: {'apples': 3, 'bananas': 2, 'oranges': 1}. Then, add a new item to the series with the key 'pears' and the value 4."
   ]
  },
  {
   "cell_type": "code",
   "execution_count": 59,
   "id": "08e73dc4-0fd7-445e-b539-463ad6ce2afb",
   "metadata": {},
   "outputs": [
    {
     "data": {
      "text/plain": [
       "apple     3\n",
       "banana    2\n",
       "orange    1\n",
       "dtype: int64"
      ]
     },
     "execution_count": 59,
     "metadata": {},
     "output_type": "execute_result"
    }
   ],
   "source": [
    "# Creating pandas series\n",
    "import pandas as pd\n",
    "dict={'apple':3,'banana':2,'orange':1}\n",
    "pd_series=pd.Series(dict)\n",
    "pd_series"
   ]
  },
  {
   "cell_type": "code",
   "execution_count": 61,
   "id": "49420812-d6d7-42c3-8fd6-97c4d7087272",
   "metadata": {},
   "outputs": [
    {
     "data": {
      "text/plain": [
       "apple     3\n",
       "banana    2\n",
       "orange    1\n",
       "pears     4\n",
       "dtype: int64"
      ]
     },
     "execution_count": 61,
     "metadata": {},
     "output_type": "execute_result"
    }
   ],
   "source": [
    "# Adding new key value pair pears:4\n",
    "pd_series['pears']=4\n",
    "pd_series"
   ]
  },
  {
   "cell_type": "markdown",
   "id": "4106a245-9a9e-4a37-afb7-8a1fa45fc5e3",
   "metadata": {},
   "source": [
    "# 4.Create a dataframe with the following columns: name, age, and gender. The dataframe should have 10 rows of data."
   ]
  },
  {
   "cell_type": "code",
   "execution_count": 63,
   "id": "72cfbc82-b7e4-4828-ba06-7f126e56710b",
   "metadata": {},
   "outputs": [
    {
     "data": {
      "text/html": [
       "<div>\n",
       "<style scoped>\n",
       "    .dataframe tbody tr th:only-of-type {\n",
       "        vertical-align: middle;\n",
       "    }\n",
       "\n",
       "    .dataframe tbody tr th {\n",
       "        vertical-align: top;\n",
       "    }\n",
       "\n",
       "    .dataframe thead th {\n",
       "        text-align: right;\n",
       "    }\n",
       "</style>\n",
       "<table border=\"1\" class=\"dataframe\">\n",
       "  <thead>\n",
       "    <tr style=\"text-align: right;\">\n",
       "      <th></th>\n",
       "      <th>Name</th>\n",
       "      <th>Age</th>\n",
       "      <th>Gender</th>\n",
       "    </tr>\n",
       "  </thead>\n",
       "  <tbody>\n",
       "    <tr>\n",
       "      <th>0</th>\n",
       "      <td>Sam</td>\n",
       "      <td>35</td>\n",
       "      <td>Male</td>\n",
       "    </tr>\n",
       "    <tr>\n",
       "      <th>1</th>\n",
       "      <td>Ethan</td>\n",
       "      <td>30</td>\n",
       "      <td>Male</td>\n",
       "    </tr>\n",
       "    <tr>\n",
       "      <th>2</th>\n",
       "      <td>Noah</td>\n",
       "      <td>28</td>\n",
       "      <td>Male</td>\n",
       "    </tr>\n",
       "    <tr>\n",
       "      <th>3</th>\n",
       "      <td>Prince</td>\n",
       "      <td>30</td>\n",
       "      <td>Male</td>\n",
       "    </tr>\n",
       "    <tr>\n",
       "      <th>4</th>\n",
       "      <td>Chris</td>\n",
       "      <td>34</td>\n",
       "      <td>Male</td>\n",
       "    </tr>\n",
       "    <tr>\n",
       "      <th>5</th>\n",
       "      <td>Royce</td>\n",
       "      <td>25</td>\n",
       "      <td>Male</td>\n",
       "    </tr>\n",
       "    <tr>\n",
       "      <th>6</th>\n",
       "      <td>Raechal</td>\n",
       "      <td>34</td>\n",
       "      <td>Female</td>\n",
       "    </tr>\n",
       "    <tr>\n",
       "      <th>7</th>\n",
       "      <td>Mary</td>\n",
       "      <td>23</td>\n",
       "      <td>Female</td>\n",
       "    </tr>\n",
       "    <tr>\n",
       "      <th>8</th>\n",
       "      <td>Antony</td>\n",
       "      <td>34</td>\n",
       "      <td>Male</td>\n",
       "    </tr>\n",
       "    <tr>\n",
       "      <th>9</th>\n",
       "      <td>Maria</td>\n",
       "      <td>35</td>\n",
       "      <td>Female</td>\n",
       "    </tr>\n",
       "  </tbody>\n",
       "</table>\n",
       "</div>"
      ],
      "text/plain": [
       "      Name  Age  Gender\n",
       "0      Sam   35    Male\n",
       "1    Ethan   30    Male\n",
       "2     Noah   28    Male\n",
       "3   Prince   30    Male\n",
       "4    Chris   34    Male\n",
       "5    Royce   25    Male\n",
       "6  Raechal   34  Female\n",
       "7     Mary   23  Female\n",
       "8   Antony   34    Male\n",
       "9    Maria   35  Female"
      ]
     },
     "execution_count": 63,
     "metadata": {},
     "output_type": "execute_result"
    }
   ],
   "source": [
    "data={'Name':['Sam','Ethan','Noah','Prince','Chris','Royce','Raechal','Mary','Antony','Maria'],\n",
    "      'Age':[35,30,28,30,34,25,34,23,34,35],\n",
    "      'Gender':['Male','Male','Male','Male','Male','Male','Female','Female','Male','Female']}\n",
    "df_frame=pd.DataFrame(data)\n",
    "df_frame"
   ]
  },
  {
   "cell_type": "markdown",
   "id": "ea1a460e-804e-4349-ba32-84a42335e1bf",
   "metadata": {},
   "source": [
    "# 5.Add a new column to the data frame created in question 1, called occupation. The values for this column should be Programmer, Manager, and Analyst, corresponding to the rows in the dataframe."
   ]
  },
  {
   "cell_type": "code",
   "execution_count": 65,
   "id": "461fc58e-c59d-47ab-a4a4-2146b8453c1a",
   "metadata": {},
   "outputs": [
    {
     "data": {
      "text/html": [
       "<div>\n",
       "<style scoped>\n",
       "    .dataframe tbody tr th:only-of-type {\n",
       "        vertical-align: middle;\n",
       "    }\n",
       "\n",
       "    .dataframe tbody tr th {\n",
       "        vertical-align: top;\n",
       "    }\n",
       "\n",
       "    .dataframe thead th {\n",
       "        text-align: right;\n",
       "    }\n",
       "</style>\n",
       "<table border=\"1\" class=\"dataframe\">\n",
       "  <thead>\n",
       "    <tr style=\"text-align: right;\">\n",
       "      <th></th>\n",
       "      <th>Name</th>\n",
       "      <th>Age</th>\n",
       "      <th>Gender</th>\n",
       "      <th>Occupation</th>\n",
       "    </tr>\n",
       "  </thead>\n",
       "  <tbody>\n",
       "    <tr>\n",
       "      <th>0</th>\n",
       "      <td>Sam</td>\n",
       "      <td>35</td>\n",
       "      <td>Male</td>\n",
       "      <td>Programmer</td>\n",
       "    </tr>\n",
       "    <tr>\n",
       "      <th>1</th>\n",
       "      <td>Ethan</td>\n",
       "      <td>30</td>\n",
       "      <td>Male</td>\n",
       "      <td>Manager</td>\n",
       "    </tr>\n",
       "    <tr>\n",
       "      <th>2</th>\n",
       "      <td>Noah</td>\n",
       "      <td>28</td>\n",
       "      <td>Male</td>\n",
       "      <td>Analyst</td>\n",
       "    </tr>\n",
       "    <tr>\n",
       "      <th>3</th>\n",
       "      <td>Prince</td>\n",
       "      <td>30</td>\n",
       "      <td>Male</td>\n",
       "      <td>Programmer</td>\n",
       "    </tr>\n",
       "    <tr>\n",
       "      <th>4</th>\n",
       "      <td>Chris</td>\n",
       "      <td>34</td>\n",
       "      <td>Male</td>\n",
       "      <td>Manager</td>\n",
       "    </tr>\n",
       "    <tr>\n",
       "      <th>5</th>\n",
       "      <td>Royce</td>\n",
       "      <td>25</td>\n",
       "      <td>Male</td>\n",
       "      <td>Analyst</td>\n",
       "    </tr>\n",
       "    <tr>\n",
       "      <th>6</th>\n",
       "      <td>Raechal</td>\n",
       "      <td>34</td>\n",
       "      <td>Female</td>\n",
       "      <td>Programmer</td>\n",
       "    </tr>\n",
       "    <tr>\n",
       "      <th>7</th>\n",
       "      <td>Mary</td>\n",
       "      <td>23</td>\n",
       "      <td>Female</td>\n",
       "      <td>Manager</td>\n",
       "    </tr>\n",
       "    <tr>\n",
       "      <th>8</th>\n",
       "      <td>Antony</td>\n",
       "      <td>34</td>\n",
       "      <td>Male</td>\n",
       "      <td>Analyst</td>\n",
       "    </tr>\n",
       "    <tr>\n",
       "      <th>9</th>\n",
       "      <td>Maria</td>\n",
       "      <td>35</td>\n",
       "      <td>Female</td>\n",
       "      <td>Analyst</td>\n",
       "    </tr>\n",
       "  </tbody>\n",
       "</table>\n",
       "</div>"
      ],
      "text/plain": [
       "      Name  Age  Gender  Occupation\n",
       "0      Sam   35    Male  Programmer\n",
       "1    Ethan   30    Male     Manager\n",
       "2     Noah   28    Male     Analyst\n",
       "3   Prince   30    Male  Programmer\n",
       "4    Chris   34    Male     Manager\n",
       "5    Royce   25    Male     Analyst\n",
       "6  Raechal   34  Female  Programmer\n",
       "7     Mary   23  Female     Manager\n",
       "8   Antony   34    Male     Analyst\n",
       "9    Maria   35  Female     Analyst"
      ]
     },
     "execution_count": 65,
     "metadata": {},
     "output_type": "execute_result"
    }
   ],
   "source": [
    "df_frame['Occupation']=['Programmer','Manager','Analyst','Programmer','Manager','Analyst','Programmer','Manager','Analyst','Analyst']\n",
    "df_frame"
   ]
  },
  {
   "cell_type": "markdown",
   "id": "f33e805f-0e58-4705-a95e-b6fe35c113f7",
   "metadata": {},
   "source": [
    "# 6.Select the rows of the dataframe where the age is greater than or equal to 30."
   ]
  },
  {
   "cell_type": "code",
   "execution_count": 89,
   "id": "10b1d158-37a2-4de1-9da7-0db779f2047c",
   "metadata": {},
   "outputs": [
    {
     "name": "stdout",
     "output_type": "stream",
     "text": [
      "Rows with age greater than or equal to 30 \n",
      "\n",
      "       Name  Age  Gender  Occupation\n",
      "0      Sam   35    Male  Programmer\n",
      "1    Ethan   30    Male     Manager\n",
      "3   Prince   30    Male  Programmer\n",
      "4    Chris   34    Male     Manager\n",
      "6  Raechal   34  Female  Programmer\n",
      "8   Antony   34    Male     Analyst\n",
      "9    Maria   35  Female     Analyst\n"
     ]
    }
   ],
   "source": [
    "age=df_frame[df_frame['Age']>=30]                 \n",
    "print(\"Rows with age greater than or equal to 30 \\n\\n\",age)"
   ]
  },
  {
   "cell_type": "markdown",
   "id": "006b2625-fd5e-474a-bd11-cac44dc8da37",
   "metadata": {},
   "source": [
    "# 7.Convert this dataframe to a csv file and read that csv file, finally display the contents.\n"
   ]
  },
  {
   "cell_type": "code",
   "execution_count": 84,
   "id": "f0d899e4-a774-48ff-b163-15e4f33af884",
   "metadata": {},
   "outputs": [
    {
     "name": "stdout",
     "output_type": "stream",
     "text": [
      "   Unnamed: 0     Name  Age  Gender  Occupation\n",
      "0           0      Sam   35    Male  Programmer\n",
      "1           1    Ethan   30    Male     Manager\n",
      "2           2     Noah   28    Male     Analyst\n",
      "3           3   Prince   30    Male  Programmer\n",
      "4           4    Chris   34    Male     Manager\n",
      "5           5    Royce   25    Male     Analyst\n",
      "6           6  Raechal   34  Female  Programmer\n",
      "7           7     Mary   23  Female     Manager\n",
      "8           8   Antony   34    Male     Analyst\n",
      "9           9    Maria   35  Female     Analyst\n"
     ]
    }
   ],
   "source": [
    "# Converting dataframe to csv\n",
    "df_frame.to_csv('df_frame.csv')\n",
    "\n",
    "# Reading csv file\n",
    "df = pd.read_csv('df_frame.csv')\n",
    "\n",
    "# Print the content\n",
    "\n",
    "print(df)\n"
   ]
  },
  {
   "cell_type": "code",
   "execution_count": null,
   "id": "f4e2e244-1e6d-452a-9e07-efabbbf8057a",
   "metadata": {},
   "outputs": [],
   "source": []
  }
 ],
 "metadata": {
  "kernelspec": {
   "display_name": "Python [conda env:base] *",
   "language": "python",
   "name": "conda-base-py"
  },
  "language_info": {
   "codemirror_mode": {
    "name": "ipython",
    "version": 3
   },
   "file_extension": ".py",
   "mimetype": "text/x-python",
   "name": "python",
   "nbconvert_exporter": "python",
   "pygments_lexer": "ipython3",
   "version": "3.12.7"
  }
 },
 "nbformat": 4,
 "nbformat_minor": 5
}
